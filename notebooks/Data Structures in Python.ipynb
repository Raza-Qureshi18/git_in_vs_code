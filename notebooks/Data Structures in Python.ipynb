{
 "cells": [
  {
   "cell_type": "markdown",
   "id": "94e91619",
   "metadata": {},
   "source": [
    "# Data Structures\n",
    "\n",
    "#### List[ ] :-"
   ]
  },
  {
   "cell_type": "markdown",
   "id": "1936dc89",
   "metadata": {},
   "source": [
    " list is an unordered collection collection of data,it can be of similar type as well as different type.It is represented in [ ](square brackets). Elements in the list can be append(added)."
   ]
  },
  {
   "cell_type": "code",
   "execution_count": 20,
   "id": "e9118a62",
   "metadata": {},
   "outputs": [
    {
     "name": "stdout",
     "output_type": "stream",
     "text": [
      "[1, 'hello', 4.5, True]\n",
      "<class 'list'>\n",
      "hello\n",
      "<class 'int'>\n",
      "<class 'str'>\n",
      "<class 'float'>\n",
      "<class 'bool'>\n",
      "[1, 'hello', 4.5, True, 1, 'hello', 4.5, True]\n",
      "[1, 'hello', 4.5, True, 1, 'hello', 4.5, True]\n"
     ]
    }
   ],
   "source": [
    "li = [1,\"hello\",4.5,True]\n",
    "print(li)\n",
    "print(type(li))\n",
    "print(li[1])\n",
    "print(type(li[0]))\n",
    "print(type(li[1]))\n",
    "print(type(li[2]))\n",
    "print(type(li[3]))\n",
    "\n",
    "print(li*2)\n",
    "print(li+li)"
   ]
  },
  {
   "cell_type": "markdown",
   "id": "138cc99c",
   "metadata": {},
   "source": [
    "#### Tuple() :-\n",
    "    "
   ]
  },
  {
   "cell_type": "markdown",
   "id": "e9a1e99f",
   "metadata": {},
   "source": [
    " Tuple is an ordered collection of data,it can of similar type or of different type,t can be of similar type as well as different type.It is represented in ()(round brackets). Elements in the list can't be append(added)."
   ]
  },
  {
   "cell_type": "code",
   "execution_count": 21,
   "id": "2e3f65db",
   "metadata": {},
   "outputs": [
    {
     "name": "stdout",
     "output_type": "stream",
     "text": [
      "(1, 'hello', 4.5, True)\n",
      "<class 'tuple'>\n",
      "hello\n",
      "<class 'int'>\n",
      "<class 'str'>\n",
      "<class 'float'>\n",
      "<class 'bool'>\n",
      "(1, 'hello', 4.5, True, 1, 'hello', 4.5, True)\n",
      "(1, 'hello', 4.5, True, 1, 'hello', 4.5, True)\n"
     ]
    }
   ],
   "source": [
    "tup = (1,\"hello\",4.5,True)\n",
    "print(tup)\n",
    "print(type(tup))\n",
    "print(tup[1])\n",
    "print(type(tup[0]))\n",
    "print(type(tup[1]))\n",
    "print(type(tup[2]))\n",
    "print(type(tup[3]))\n",
    "\n",
    "print(tup*2)\n",
    "print(tup+tup)"
   ]
  },
  {
   "cell_type": "markdown",
   "id": "e92cb147",
   "metadata": {},
   "source": [
    "#### Dictionary"
   ]
  },
  {
   "cell_type": "markdown",
   "id": "2175559d",
   "metadata": {},
   "source": [
    "Data is stored in dictionary as a pair of keys and values.it is represented in { }(curly brackets).Appending of data can be done in dictionaries.keys and values are separeted using colon(:)."
   ]
  },
  {
   "cell_type": "code",
   "execution_count": 29,
   "id": "97d22ba8",
   "metadata": {},
   "outputs": [
    {
     "name": "stdout",
     "output_type": "stream",
     "text": [
      "{1: '@baba_Ammar', 2: 'Raza', 3: 'ali'}\n",
      "<built-in method keys of dict object at 0x00000208D6963980>\n",
      "<built-in method values of dict object at 0x00000208D6963980>\n",
      "@baba_Ammar\n",
      "Raza\n",
      "ali\n",
      "{'Instructor': '@baba_Ammar', 'Learner': 'Raza', 'student': 'ali'}\n",
      "<built-in method keys of dict object at 0x00000208D6963600>\n",
      "<built-in method values of dict object at 0x00000208D6963600>\n",
      "@baba_Ammar\n",
      "Raza\n",
      "ali\n",
      "{'Instructor': '@baba_Ammar', 'Learner': 'Raza', 'student': 'ali', 'code': 'python'}\n"
     ]
    }
   ],
   "source": [
    "dic1 = {1:\"@baba_Ammar\",2:\"Raza\",3:\"ali\"}\n",
    "print(dic1)\n",
    "print(dic1.keys)\n",
    "print(dic1.values)\n",
    "print(dic1[1])\n",
    "print(dic1[2])\n",
    "print(dic1[3])\n",
    "\n",
    "dic2 = {\"Instructor\":\"@baba_Ammar\",\"Learner\":\"Raza\",\"student\":\"ali\"}\n",
    "print(dic2)\n",
    "print(dic2.keys)\n",
    "print(dic2.values)\n",
    "print(dic2[\"Instructor\"])\n",
    "print(dic2[\"Learner\"])\n",
    "print(dic2[\"student\"])\n",
    "dic2[\"code\"]=\"python\"\n",
    "print(dic2)\n"
   ]
  },
  {
   "cell_type": "markdown",
   "id": "6fc1be11",
   "metadata": {},
   "source": [
    "#### Sets :-\n"
   ]
  },
  {
   "cell_type": "markdown",
   "id": "e3cec818",
   "metadata": {},
   "source": [
    "Unordered and unindexed collection of data is called sets.Represented with curly braces{}.no element can bi written twice."
   ]
  },
  {
   "cell_type": "code",
   "execution_count": 33,
   "id": "70782f58",
   "metadata": {},
   "outputs": [
    {
     "name": "stdout",
     "output_type": "stream",
     "text": [
      "{1, 3.0, '2'}\n",
      "<class 'set'>\n"
     ]
    }
   ],
   "source": [
    "s1 = {1,\"2\",3.0,True}\n",
    "print(s1) # don't have boolean values\n",
    "print(type(s1))\n",
    "# print(s1[1])  #  can't do this.\n",
    "# print(type(s1[1]))\n",
    "\n"
   ]
  },
  {
   "cell_type": "code",
   "execution_count": null,
   "id": "e54a0f56",
   "metadata": {},
   "outputs": [],
   "source": []
  }
 ],
 "metadata": {
  "kernelspec": {
   "display_name": "Python 3 (ipykernel)",
   "language": "python",
   "name": "python3"
  },
  "language_info": {
   "codemirror_mode": {
    "name": "ipython",
    "version": 3
   },
   "file_extension": ".py",
   "mimetype": "text/x-python",
   "name": "python",
   "nbconvert_exporter": "python",
   "pygments_lexer": "ipython3",
   "version": "3.9.12"
  }
 },
 "nbformat": 4,
 "nbformat_minor": 5
}
