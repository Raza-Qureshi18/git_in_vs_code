{
 "cells": [
  {
   "cell_type": "markdown",
   "id": "bc15f1f7",
   "metadata": {},
   "source": [
    "# Operators In Python\n",
    "---\n",
    "\n",
    "#### 1.1"
   ]
  },
  {
   "cell_type": "code",
   "execution_count": 4,
   "id": "87ad5801",
   "metadata": {},
   "outputs": [
    {
     "name": "stdout",
     "output_type": "stream",
     "text": [
      "2+3= 5\n",
      "2-3= -1\n",
      "2*3= 6\n",
      "2/3= 0.6666666666666666\n",
      "2//3= 0\n",
      "2**3= 8\n",
      "2%3= 2\n"
     ]
    }
   ],
   "source": [
    "print(\"2+3=\",2+3)\n",
    "print(\"2-3=\",2-3)\n",
    "print(\"2*3=\",2*3)\n",
    "print(\"2/3=\",2/3)   #division in float\n",
    "print(\"2//3=\",2//3) #division in int\n",
    "print(\"2**3=\",2**3) # Does not work on terminal\n",
    "print(\"2%3=\",2%3)   #modulus:Remainder operator"
   ]
  },
  {
   "cell_type": "markdown",
   "id": "ac935df3",
   "metadata": {},
   "source": [
    "  ---\n",
    "  1.Operator presidence in python is according to PEMDAS\n",
    "sequence (pyrenthesis Exponence Multiplication Divison Addition Subtraction).\n",
    "\n",
    "  2. (#) is used for single comment. Ctrl+/ is used for multi-line comments.\n",
    "  ---"
   ]
  },
  {
   "cell_type": "markdown",
   "id": "1f003453",
   "metadata": {},
   "source": [
    "# strings\n",
    "\n",
    "\n",
    "#### 1.2"
   ]
  },
  {
   "cell_type": "code",
   "execution_count": 5,
   "id": "2df260f2",
   "metadata": {},
   "outputs": [
    {
     "name": "stdout",
     "output_type": "stream",
     "text": [
      "Hello World\n",
      "kese ho\n",
      "Kya haal ha\n",
      "teak ho\n"
     ]
    }
   ],
   "source": [
    "a='Hello World' \n",
    "print(a)\n",
    "\n",
    "b=\"kese ho\"\n",
    "print(b)\n",
    "\n",
    "c=\"\"\"Kya haal ha\"\"\"\n",
    "print(c)\n",
    "\n",
    "d='''teak ho'''\n",
    "print(d)"
   ]
  },
  {
   "cell_type": "markdown",
   "id": "88a92353",
   "metadata": {},
   "source": [
    "Above all are strings (\"or') don't make any sense."
   ]
  },
  {
   "cell_type": "code",
   "execution_count": 6,
   "id": "0aa280fa",
   "metadata": {},
   "outputs": [
    {
     "name": "stdout",
     "output_type": "stream",
     "text": [
      "Coding with @baba_Ammar\n",
      "   Coding with @baba_Ammar    \n"
     ]
    }
   ],
   "source": [
    "print(   \"Coding with @baba_Ammar\"    )\n",
    "print(\"   Coding with @baba_Ammar    \")"
   ]
  },
  {
   "cell_type": "markdown",
   "id": "345bb8fb",
   "metadata": {},
   "source": [
    "Spaces in between Qutation marks are usefull in console screen only not outside."
   ]
  },
  {
   "cell_type": "markdown",
   "id": "56ce3583",
   "metadata": {},
   "source": [
    "# Comments\n",
    "\n",
    "#### 1.3"
   ]
  },
  {
   "cell_type": "markdown",
   "id": "859e6a75",
   "metadata": {},
   "source": [
    "Statements we don't want to print on console \n",
    "are comments.\n",
    "\n",
    "(#) is used of single line comment.\n",
    "(Ctrl+/) is used of single Multi-line comment."
   ]
  },
  {
   "cell_type": "code",
   "execution_count": 7,
   "id": "cf004c80",
   "metadata": {},
   "outputs": [
    {
     "name": "stdout",
     "output_type": "stream",
     "text": [
      "5\n",
      "-1\n"
     ]
    }
   ],
   "source": [
    "print(2+3) #Addition(Comment)\n",
    "print(2-3) #Subtraction(Comment)"
   ]
  },
  {
   "cell_type": "markdown",
   "id": "a43f4e83",
   "metadata": {},
   "source": [
    "# Variables\n",
    "\n",
    "#### 1.4\n",
    "\n",
    "1.Integer(Numeric)\n",
    "\n",
    "2.Float(Numeric)\n",
    "\n",
    "3.String \n",
    "\n",
    "4.Boolean\n",
    "\n",
    "5.Bitwise"
   ]
  },
  {
   "cell_type": "code",
   "execution_count": 8,
   "id": "c85342c1",
   "metadata": {},
   "outputs": [
    {
     "name": "stdout",
     "output_type": "stream",
     "text": [
      "4\n",
      "<class 'int'>\n"
     ]
    }
   ],
   "source": [
    "a=4  #int\n",
    "print(a)\n",
    "print(type(a))"
   ]
  },
  {
   "cell_type": "code",
   "execution_count": 9,
   "id": "6dee6507",
   "metadata": {},
   "outputs": [
    {
     "name": "stdout",
     "output_type": "stream",
     "text": [
      "4.5\n",
      "<class 'float'>\n"
     ]
    }
   ],
   "source": [
    "b=4.5 #float\n",
    "print(b)\n",
    "print(type(b))"
   ]
  },
  {
   "cell_type": "code",
   "execution_count": 10,
   "id": "3b3f0119",
   "metadata": {},
   "outputs": [
    {
     "name": "stdout",
     "output_type": "stream",
     "text": [
      "True\n",
      "<class 'bool'>\n"
     ]
    }
   ],
   "source": [
    "c=b>a #boolean\n",
    "print(c)\n",
    "print(type(c))"
   ]
  },
  {
   "cell_type": "code",
   "execution_count": 11,
   "id": "f005603e",
   "metadata": {},
   "outputs": [
    {
     "name": "stdout",
     "output_type": "stream",
     "text": [
      "@baba_Ammar\n",
      "<class 'str'>\n"
     ]
    }
   ],
   "source": [
    "d=\"@baba_Ammar\"\n",
    "print(d)\n",
    "print(type(d))"
   ]
  },
  {
   "cell_type": "markdown",
   "id": "45da8c56",
   "metadata": {},
   "source": [
    "## Rules for Assaigning Variable Names\n",
    "\n",
    "1.Should not Start with Numbers.\n",
    "\n",
    "2.Should not use special chars.\n",
    "\n",
    "3.Should not use reserved keywords.\n",
    "\n",
    "4.should be short and dercriptive.\n",
    "\n",
    "5.Python is Case sensitive.\n",
    "\n",
    "6.No Spaces Allowed.\n",
    "\n",
    "---"
   ]
  },
  {
   "cell_type": "code",
   "execution_count": 12,
   "id": "c2d80e5f",
   "metadata": {},
   "outputs": [
    {
     "name": "stdout",
     "output_type": "stream",
     "text": [
      "6\n",
      "<class 'int'>\n",
      "@baba_Ammar\n",
      "<class 'str'>\n"
     ]
    }
   ],
   "source": [
    "a=6\n",
    "print(a)\n",
    "print(type(a))\n",
    "a=\"@baba_Ammar\"\n",
    "print(a)\n",
    "print(type(a))"
   ]
  },
  {
   "cell_type": "markdown",
   "id": "f1d80381",
   "metadata": {},
   "source": [
    "--- Above code illustrates that Pythons Allows variables to be typecast in runtime."
   ]
  },
  {
   "cell_type": "markdown",
   "id": "4bc69255",
   "metadata": {},
   "source": [
    "# Input Variables\n",
    "\n",
    "#### 1.5"
   ]
  },
  {
   "cell_type": "markdown",
   "id": "7a775b86",
   "metadata": {},
   "source": [
    "Input Fuction\n",
    "\n",
    "1st state"
   ]
  },
  {
   "cell_type": "code",
   "execution_count": 13,
   "id": "b36da2e6",
   "metadata": {},
   "outputs": [
    {
     "name": "stdout",
     "output_type": "stream",
     "text": [
      "Statement you want to print before taking input from user :ali\n",
      "ali\n"
     ]
    }
   ],
   "source": [
    "a=input(\"Statement you want to print before taking input from user :\")\n",
    "print(a)"
   ]
  },
  {
   "cell_type": "markdown",
   "id": "d64610d7",
   "metadata": {},
   "source": [
    "2nd stage"
   ]
  },
  {
   "cell_type": "code",
   "execution_count": 14,
   "id": "c9c73af2",
   "metadata": {},
   "outputs": [
    {
     "name": "stdout",
     "output_type": "stream",
     "text": [
      "Statement you want to print before taking input from user :ali\n",
      "Your Input: ali\n"
     ]
    }
   ],
   "source": [
    "a=input(\"Statement you want to print before taking input from user :\")\n",
    "print(\"Your Input:\",a)"
   ]
  },
  {
   "cell_type": "markdown",
   "id": "e6e76709",
   "metadata": {},
   "source": [
    "3rd stage"
   ]
  },
  {
   "cell_type": "code",
   "execution_count": 15,
   "id": "331a9a59",
   "metadata": {},
   "outputs": [
    {
     "name": "stdout",
     "output_type": "stream",
     "text": [
      "Statement you want to print before taking input from user :ali\n",
      "Hello  Your Input: ali\n"
     ]
    }
   ],
   "source": [
    "a=input(\"Statement you want to print before taking input from user :\")\n",
    "b=\"Hello\"\n",
    "print(b,\" Your Input:\",a)"
   ]
  },
  {
   "cell_type": "markdown",
   "id": "98739ee6",
   "metadata": {},
   "source": [
    "# Conditional Logics\n",
    "\n",
    "#### 1.6"
   ]
  },
  {
   "cell_type": "markdown",
   "id": "4c9fa3e5",
   "metadata": {},
   "source": [
    "(==) Equal to\n",
    "\n",
    "(!=) Not Equal to\n",
    "\n",
    "(>)  Greater than\n",
    "\n",
    "(<)  Less than\n",
    "\n",
    "(>=) Greater than or Equal to\n",
    "\n",
    "(<=) Less than or equal to"
   ]
  },
  {
   "cell_type": "code",
   "execution_count": 16,
   "id": "d739d235",
   "metadata": {},
   "outputs": [
    {
     "name": "stdout",
     "output_type": "stream",
     "text": [
      "True\n",
      "False\n",
      "True\n",
      "True\n",
      "True\n",
      "False\n"
     ]
    }
   ],
   "source": [
    "print (4<5)\n",
    "print (4>5)\n",
    "print (4==4)\n",
    "print (4!=5)\n",
    "print (4<=5)\n",
    "print (4>=5)"
   ]
  },
  {
   "cell_type": "markdown",
   "id": "01072a55",
   "metadata": {},
   "source": [
    "# Type conversion / Type Casting\n",
    "\n",
    "#### 1.7\n",
    "\n",
    "Explicit conversion"
   ]
  },
  {
   "cell_type": "code",
   "execution_count": 17,
   "id": "bcf0349b",
   "metadata": {},
   "outputs": [
    {
     "name": "stdout",
     "output_type": "stream",
     "text": [
      "5\n",
      "<class 'str'>\n",
      "5.0\n",
      "<class 'float'>\n",
      "5\n",
      "<class 'int'>\n"
     ]
    }
   ],
   "source": [
    "x=\"5\"\n",
    "print(x)\n",
    "print(type(x))\n",
    "\n",
    "x=float(x)\n",
    "print(x)\n",
    "print(type(x))\n",
    "\n",
    "x=int(x)\n",
    "print(x)\n",
    "print(type(x))"
   ]
  },
  {
   "cell_type": "markdown",
   "id": "8b753bc0",
   "metadata": {},
   "source": [
    "Implicit Conversion"
   ]
  },
  {
   "cell_type": "markdown",
   "id": "c0cd73ff",
   "metadata": {},
   "source": [
    "In many Cases variables are automatically typecast to other datatypes.\n",
    "it is known as implicit conversion."
   ]
  },
  {
   "cell_type": "code",
   "execution_count": 20,
   "id": "c2a51e0e",
   "metadata": {},
   "outputs": [
    {
     "name": "stdout",
     "output_type": "stream",
     "text": [
      "11.0\n",
      "<class 'float'>\n",
      "10.0\n",
      "<class 'float'>\n",
      "10.0\n",
      "<class 'float'>\n",
      "9.0\n",
      "<class 'float'>\n"
     ]
    }
   ],
   "source": [
    "a=10\n",
    "b=1.0\n",
    "c=a+b\n",
    "print(c)\n",
    "print(type(c))\n",
    "\n",
    "c=a*b\n",
    "print(c)\n",
    "print(type(c))\n",
    "\n",
    "c=a/b\n",
    "print(c)\n",
    "print(type(c))\n",
    "\n",
    "c=a-b\n",
    "print(c)\n",
    "print(type(c))"
   ]
  },
  {
   "cell_type": "markdown",
   "id": "c3fe4353",
   "metadata": {},
   "source": [
    "# If ,If Else , IF Else IF Statements \n",
    "\n",
    "#### 1.8\n",
    "\n",
    "if statement"
   ]
  },
  {
   "cell_type": "code",
   "execution_count": 1,
   "id": "a6673252",
   "metadata": {},
   "outputs": [
    {
     "name": "stdout",
     "output_type": "stream",
     "text": [
      "The age Required to enter School is : 5\n",
      "Enter Your age :5\n",
      "you can join school\n"
     ]
    }
   ],
   "source": [
    "r_age = 5\n",
    "print(\"The age Required to enter School is :\",r_age)\n",
    "age = input(\"Enter Your age :\")\n",
    "age=int(age)\n",
    "if(r_age==age):\n",
    "    print(\"you can join school\")"
   ]
  },
  {
   "cell_type": "markdown",
   "id": "81c53234",
   "metadata": {},
   "source": [
    "If Else statemnt"
   ]
  },
  {
   "cell_type": "code",
   "execution_count": 2,
   "id": "7eaf4b11",
   "metadata": {},
   "outputs": [
    {
     "name": "stdout",
     "output_type": "stream",
     "text": [
      "The age Required to enter School is : 5\n",
      "Enter Your age :6\n",
      "you can't join school\n"
     ]
    }
   ],
   "source": [
    "r_age = 5\n",
    "print(\"The age Required to enter School is :\",r_age)\n",
    "age = input(\"Enter Your age :\")\n",
    "age=int(age)\n",
    "if(r_age==age):\n",
    "    print(\"you can join school\")\n",
    "else:\n",
    "    print(\"you can't join school\")"
   ]
  },
  {
   "cell_type": "markdown",
   "id": "cea64320",
   "metadata": {},
   "source": [
    "IF Else If statement"
   ]
  },
  {
   "cell_type": "code",
   "execution_count": 5,
   "id": "17c0ebee",
   "metadata": {},
   "outputs": [
    {
     "name": "stdout",
     "output_type": "stream",
     "text": [
      "The age Required to enter School is : 5\n",
      "Enter Your age :6\n",
      "you should Join Heigher classes\n"
     ]
    }
   ],
   "source": [
    "r_age = 5\n",
    "print(\"The age Required to enter School is :\",r_age)\n",
    "age = input(\"Enter Your age :\")\n",
    "age=int(age)\n",
    "if(r_age==age):\n",
    "    print(\"you can join school\")\n",
    "elif(r_age<age):\n",
    "    print(\"you should Join Heigher classes\")\n",
    "else:\n",
    "    print(\"you can't join school\")"
   ]
  },
  {
   "cell_type": "markdown",
   "id": "c53bc3dc",
   "metadata": {},
   "source": [
    "# Functions\n",
    "\n",
    "#### 1.9"
   ]
  },
  {
   "cell_type": "code",
   "execution_count": 11,
   "id": "9b40cf19",
   "metadata": {},
   "outputs": [
    {
     "name": "stdout",
     "output_type": "stream",
     "text": [
      "@baba_Ammar\n",
      "None\n",
      "@baba_Ammar\n",
      "None\n",
      "@baba_Ammar\n",
      "None\n"
     ]
    }
   ],
   "source": [
    "def func1():\n",
    "    print(\"@baba_Ammar\")\n",
    "\n",
    "print(func1())  \n",
    "print(func1())  \n",
    "print(func1()) "
   ]
  },
  {
   "cell_type": "code",
   "execution_count": 10,
   "id": "f784f1a4",
   "metadata": {},
   "outputs": [
    {
     "name": "stdout",
     "output_type": "stream",
     "text": [
      "@baba_Ammar\n",
      "@baba_Ammar\n",
      "@baba_Ammar\n",
      "None\n"
     ]
    }
   ],
   "source": [
    "def func2():\n",
    "    text=\"@baba_Ammar\"\n",
    "    print(text)\n",
    "    print(text)\n",
    "    print(text)\n",
    "\n",
    "print(func2())  "
   ]
  },
  {
   "cell_type": "code",
   "execution_count": 12,
   "id": "d440894c",
   "metadata": {},
   "outputs": [
    {
     "name": "stdout",
     "output_type": "stream",
     "text": [
      "@baba_Ammar\n",
      "@baba_Ammar\n",
      "@baba_Ammar\n",
      "None\n"
     ]
    }
   ],
   "source": [
    "def func2(text):\n",
    "    \n",
    "    print(text)\n",
    "    print(text)\n",
    "    print(text)\n",
    "\n",
    "print(func2(\"@baba_Ammar\")) "
   ]
  },
  {
   "cell_type": "code",
   "execution_count": 13,
   "id": "0de695ad",
   "metadata": {},
   "outputs": [
    {
     "name": "stdout",
     "output_type": "stream",
     "text": [
      "@baba_Ammar\n",
      "@baba_Ammar\n",
      "@baba_Ammar\n",
      "None\n"
     ]
    }
   ],
   "source": [
    "def func2():\n",
    "    \n",
    "    print(\"@baba_Ammar\")\n",
    "    print(\"@baba_Ammar\")\n",
    "    print(\"@baba_Ammar\")\n",
    "\n",
    "print(func2()) "
   ]
  },
  {
   "cell_type": "markdown",
   "id": "e89069b1",
   "metadata": {},
   "source": [
    "# loops\n",
    "\n",
    "#### 1.10"
   ]
  },
  {
   "cell_type": "markdown",
   "id": "0c8e1013",
   "metadata": {},
   "source": [
    "While loop."
   ]
  },
  {
   "cell_type": "code",
   "execution_count": 2,
   "id": "f76273a6",
   "metadata": {},
   "outputs": [
    {
     "name": "stdout",
     "output_type": "stream",
     "text": [
      "0\n",
      "1\n",
      "2\n",
      "3\n",
      "4\n",
      "5\n",
      "6\n",
      "7\n",
      "8\n",
      "9\n"
     ]
    }
   ],
   "source": [
    "i=0\n",
    "while(i<10):\n",
    "    print(i)\n",
    "    i=i+1\n"
   ]
  },
  {
   "cell_type": "code",
   "execution_count": null,
   "id": "f8cfb6f7",
   "metadata": {},
   "outputs": [
    {
     "name": "stdout",
     "output_type": "stream",
     "text": [
      "0\n",
      "1\n"
     ]
    }
   ],
   "source": [
    "i=0\n",
    "while(i<6):\n",
    "    if(i==2):\n",
    "        continue\n",
    "    else:\n",
    "        print(i)\n",
    "    i=i+1   "
   ]
  },
  {
   "cell_type": "code",
   "execution_count": 12,
   "id": "44eb5fdf",
   "metadata": {},
   "outputs": [],
   "source": [
    "li=[1,2,3,4,5]\n",
    "while(i in li):\n",
    "    print(i)\n",
    "    i=i+1\n",
    "    \n",
    "# it will not give any result and also don't give error.    "
   ]
  },
  {
   "cell_type": "code",
   "execution_count": 4,
   "id": "cdcc75dd",
   "metadata": {
    "scrolled": true
   },
   "outputs": [
    {
     "name": "stdout",
     "output_type": "stream",
     "text": [
      "0\n",
      "1\n"
     ]
    }
   ],
   "source": [
    "i=0\n",
    "while(i<6):\n",
    "    if(i==2):\n",
    "        break\n",
    "    else:\n",
    "        print(i)\n",
    "    i=i+1   "
   ]
  },
  {
   "cell_type": "markdown",
   "id": "0e1f48a3",
   "metadata": {},
   "source": [
    "Continue statement in while does not work correctly."
   ]
  },
  {
   "cell_type": "markdown",
   "id": "f6dbacc2",
   "metadata": {},
   "source": [
    "For loop\n"
   ]
  },
  {
   "cell_type": "code",
   "execution_count": 13,
   "id": "e0277ba9",
   "metadata": {},
   "outputs": [
    {
     "name": "stdout",
     "output_type": "stream",
     "text": [
      "1\n",
      "2\n",
      "3\n",
      "4\n",
      "5\n"
     ]
    }
   ],
   "source": [
    "li=[1,2,3,4,5]\n",
    "for i in li:\n",
    "    print(i)"
   ]
  },
  {
   "cell_type": "code",
   "execution_count": 15,
   "id": "0ad4b9e6",
   "metadata": {},
   "outputs": [
    {
     "name": "stdout",
     "output_type": "stream",
     "text": [
      "0\n",
      "1\n",
      "2\n",
      "3\n",
      "4\n",
      "5\n"
     ]
    }
   ],
   "source": [
    "for i in range(0,6):\n",
    "    print(i)"
   ]
  },
  {
   "cell_type": "code",
   "execution_count": 2,
   "id": "9185b37b",
   "metadata": {},
   "outputs": [
    {
     "name": "stdout",
     "output_type": "stream",
     "text": [
      "0\n",
      "1\n",
      "2\n",
      "3\n"
     ]
    }
   ],
   "source": [
    "for i in range(0,6):\n",
    "    if(i==4):\n",
    "        break\n",
    "    else:    \n",
    "        print(i)"
   ]
  },
  {
   "cell_type": "code",
   "execution_count": 3,
   "id": "bd9150c4",
   "metadata": {},
   "outputs": [
    {
     "name": "stdout",
     "output_type": "stream",
     "text": [
      "0\n",
      "1\n",
      "2\n",
      "3\n",
      "5\n"
     ]
    }
   ],
   "source": [
    "for i in range(0,6):\n",
    "    if(i==4):\n",
    "        continue\n",
    "    else:    \n",
    "        print(i)"
   ]
  },
  {
   "cell_type": "markdown",
   "id": "90213d06",
   "metadata": {},
   "source": [
    "# libraries"
   ]
  },
  {
   "cell_type": "markdown",
   "id": "3ca72f7e",
   "metadata": {},
   "source": [
    "#### 1.11"
   ]
  },
  {
   "cell_type": "code",
   "execution_count": 1,
   "id": "be43911d",
   "metadata": {},
   "outputs": [
    {
     "name": "stdout",
     "output_type": "stream",
     "text": [
      "3.141592653589793\n"
     ]
    }
   ],
   "source": [
    "import math\n",
    "\n",
    "print(math.pi)"
   ]
  },
  {
   "cell_type": "code",
   "execution_count": 4,
   "id": "2fe8e341",
   "metadata": {},
   "outputs": [
    {
     "name": "stdout",
     "output_type": "stream",
     "text": [
      "3.5\n"
     ]
    }
   ],
   "source": [
    "import statistics\n",
    "\n",
    "li=[6,5,3,4,1,2]\n",
    "print(statistics.mean(li))"
   ]
  },
  {
   "cell_type": "markdown",
   "id": "df9eaf7b",
   "metadata": {},
   "source": [
    "# Trouble shooting\n",
    "\n",
    "#### 1.12"
   ]
  },
  {
   "cell_type": "markdown",
   "id": "cb418194",
   "metadata": {},
   "source": [
    "print(hello) syntax Error.\n",
    "\n",
    "print(5/0)    logical/runtime error\n",
    "\n",
    "a=\"ali\"      Semantic Error\n",
    "print(\"hello a\")  \n"
   ]
  },
  {
   "cell_type": "code",
   "execution_count": null,
   "id": "3c4f97e3",
   "metadata": {},
   "outputs": [],
   "source": []
  }
 ],
 "metadata": {
  "kernelspec": {
   "display_name": "Python 3 (ipykernel)",
   "language": "python",
   "name": "python3"
  },
  "language_info": {
   "codemirror_mode": {
    "name": "ipython",
    "version": 3
   },
   "file_extension": ".py",
   "mimetype": "text/x-python",
   "name": "python",
   "nbconvert_exporter": "python",
   "pygments_lexer": "ipython3",
   "version": "3.9.12"
  }
 },
 "nbformat": 4,
 "nbformat_minor": 5
}
